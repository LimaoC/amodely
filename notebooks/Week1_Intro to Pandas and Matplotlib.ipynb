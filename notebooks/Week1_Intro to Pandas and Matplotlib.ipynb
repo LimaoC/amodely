{
 "cells": [
  {
   "cell_type": "markdown",
   "id": "bfdd8d36-bce2-4ed3-990d-a1690a636eb1",
   "metadata": {
    "tags": []
   },
   "source": [
    "# Intro to Pandas and Matplotlib\n",
    "\n",
    "#### Preparing, cleaning, and visualising data using `pandas` and `Matplotlib`"
   ]
  },
  {
   "cell_type": "markdown",
   "id": "718a8949",
   "metadata": {},
   "source": [
    "Setting up the dataset:\n",
    "- Read in the CSV and name all the columns accordingly\n",
    "- Make sure that the Month column is properly formatted as having a `datetime` type\n",
    "- Set Month as the index of the dataframe\n",
    "- Define relevant variables for use later"
   ]
  },
  {
   "cell_type": "code",
   "execution_count": null,
   "id": "82c68d0e-fff1-4630-b820-bfb3180b8178",
   "metadata": {},
   "outputs": [],
   "source": [
    "from dotenv import load_dotenv\n",
    "import os\n",
    "\n",
    "import pandas as pd\n",
    "import matplotlib.pyplot as plt\n",
    "import ipywidgets as widgets\n",
    "from ipywidgets import interact\n",
    "\n",
    "load_dotenv()\n",
    "DATASET_PATH = os.environ.get(\"DATASET_PATH\")\n",
    "\n",
    "# load in CSV and reformat the dataframe\n",
    "df = pd.read_csv(DATASET_PATH + \"Day 1 Conversion Rate Motor.csv\")\n",
    "df.rename(columns={\"Grouping\": \"State\", \"Selected Measure1\": \"Day 1 Conversion Rate\"}, inplace=True)\n",
    "df[\"Month\"] = pd.to_datetime(df[\"Month\"], format=\"%d/%m/%y\")\n",
    "df.set_index(\"Month\", inplace=True)\n",
    "\n",
    "states = sorted(set(df[\"State\"]))\n",
    "df.head()"
   ]
  },
  {
   "cell_type": "markdown",
   "id": "ca25b544-7099-4bc3-85b2-1f8dcde99c9f",
   "metadata": {},
   "source": [
    "Plot the conversion rate for every state individually on the same plot:"
   ]
  },
  {
   "cell_type": "code",
   "execution_count": null,
   "id": "824dbf62-eaad-4820-9e7b-928e74ceba0a",
   "metadata": {
    "scrolled": true,
    "tags": []
   },
   "outputs": [],
   "source": [
    "for state in states:\n",
    "    df[df.State == state][\"Day 1 Conversion Rate\"].plot(\n",
    "        x=\"Month\",\n",
    "        ylabel=\"Day 1 Conversion Rate\",\n",
    "        title=\"Day 1 Conversion Rate against Month\"\n",
    "    )\n",
    "\n",
    "plt.legend(states);"
   ]
  },
  {
   "cell_type": "markdown",
   "id": "52ef5444",
   "metadata": {},
   "source": [
    "Here I experimented with using `ipywidgets` to create interactive plots in Jupyter; this ended up being unnecessary as the final product wouldn't be run on a Jupyter notebook anyway. Nevertheless it's useful for visualising data during development."
   ]
  },
  {
   "cell_type": "code",
   "execution_count": null,
   "id": "5cf3ccc9-9ca8-4619-a9ca-80f2693e0bd1",
   "metadata": {},
   "outputs": [],
   "source": [
    "widget = widgets.Dropdown(\n",
    "    options=states,\n",
    "    value=\"a. NSW\",\n",
    "    description=\"State:\",\n",
    "    disabled=False\n",
    ")\n",
    "\n",
    "def plot_conversion_rate(state):\n",
    "    df[df.State == state][\"Day 1 Conversion Rate\"].plot(\n",
    "        ylabel=\"Day 1 Conversion Rate\",\n",
    "        title=f\"Day 1 Conversion Rate against Month ({state})\"\n",
    "    )\n",
    "\n",
    "interact(plot_conversion_rate, state=widget);"
   ]
  }
 ],
 "metadata": {
  "kernelspec": {
   "display_name": "Python 3 (ipykernel)",
   "language": "python",
   "name": "python3"
  },
  "language_info": {
   "codemirror_mode": {
    "name": "ipython",
    "version": 3
   },
   "file_extension": ".py",
   "mimetype": "text/x-python",
   "name": "python",
   "nbconvert_exporter": "python",
   "pygments_lexer": "ipython3",
   "version": "3.9.7"
  }
 },
 "nbformat": 4,
 "nbformat_minor": 5
}
