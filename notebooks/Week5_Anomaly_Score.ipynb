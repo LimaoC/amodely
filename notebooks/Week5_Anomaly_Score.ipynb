{
 "cells": [
  {
   "cell_type": "markdown",
   "id": "0bbc5bcf",
   "metadata": {},
   "source": [
    "Import modules:"
   ]
  },
  {
   "cell_type": "code",
   "execution_count": null,
   "id": "648203ed",
   "metadata": {},
   "outputs": [],
   "source": [
    "from dotenv import load_dotenv\n",
    "import os\n",
    "import sys\n",
    "\n",
    "module_path = os.path.abspath(os.path.join('../../GitHub/amodely'))\n",
    "if module_path not in sys.path:\n",
    "    sys.path.append(module_path)\n",
    "\n",
    "from src.amodely import *\n",
    "\n",
    "load_dotenv()\n",
    "DATASET_PATH = os.environ.get(\"DATASET_PATH\")\n",
    "df = pd.read_excel(DATASET_PATH + \"Conversion Data Extended Period.xlsx\")"
   ]
  },
  {
   "cell_type": "code",
   "execution_count": null,
   "id": "e9cd1e7b",
   "metadata": {},
   "outputs": [],
   "source": [
    "model = Amodely(df, measure=\"CONVERSION_RATE\", dimension=\"STATE_CODE\")\n",
    "model.detect_anomalies(method=\"stl\")"
   ]
  },
  {
   "cell_type": "code",
   "execution_count": null,
   "id": "d0bdf05e",
   "metadata": {},
   "outputs": [],
   "source": [
    "model.measure = \"SALES_PROPORTION\"\n",
    "model.detect_anomalies(method=\"stl\")"
   ]
  },
  {
   "cell_type": "code",
   "execution_count": null,
   "id": "c1ec46db",
   "metadata": {},
   "outputs": [],
   "source": []
  }
 ],
 "metadata": {
  "kernelspec": {
   "display_name": "Python 3 (ipykernel)",
   "language": "python",
   "name": "python3"
  },
  "language_info": {
   "codemirror_mode": {
    "name": "ipython",
    "version": 3
   },
   "file_extension": ".py",
   "mimetype": "text/x-python",
   "name": "python",
   "nbconvert_exporter": "python",
   "pygments_lexer": "ipython3",
   "version": "3.9.7"
  }
 },
 "nbformat": 4,
 "nbformat_minor": 5
}
