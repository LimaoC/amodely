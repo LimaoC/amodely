{
 "cells": [
  {
   "cell_type": "markdown",
   "metadata": {},
   "source": [
    "# Intro to Simple Linear Regression\n",
    "\n",
    "#### Experimenting with simple linear regression models to fit the data\n",
    "\n",
    "Links:\n",
    "- [Linear Regression Documnetation](https://scikit-learn.org/stable/modules/generated/sklearn.linear_model.LinearRegression.html)"
   ]
  },
  {
   "cell_type": "markdown",
   "metadata": {},
   "source": [
    "Import necessary modules, load dataset into Python, preview dataset:"
   ]
  },
  {
   "cell_type": "code",
   "execution_count": null,
   "metadata": {
    "tags": []
   },
   "outputs": [],
   "source": [
    "from dotenv import load_dotenv\n",
    "import os\n",
    "\n",
    "import matplotlib.pyplot as plt\n",
    "import numpy as np\n",
    "import pandas as pd\n",
    "from datetime import datetime\n",
    "from sklearn.linear_model import LinearRegression\n",
    "\n",
    "load_dotenv()\n",
    "DATASET_PATH = os.environ.get(\"DATASET_PATH\")\n",
    "\n",
    "df = pd.read_excel(DATASET_PATH + \"Conversion by Day.xlsx\")\n",
    "\n",
    "states = sorted(set(df[\"STATE_CODE\"]))\n",
    "df.head()"
   ]
  },
  {
   "cell_type": "markdown",
   "metadata": {},
   "source": [
    "Fit simple linear regression model to data and output parameters:"
   ]
  },
  {
   "cell_type": "code",
   "execution_count": null,
   "metadata": {
    "scrolled": false
   },
   "outputs": [],
   "source": [
    "# convert quote date to an integer (since linear regression doesn't work with date times)\n",
    "df_nsw = df.loc[df.STATE_CODE == \"NSW\"][[\"QUOTE_DATE\", \"Net Closing Rate\"]]\n",
    "df_nsw[\"QUOTE_DATE_INT\"] = df_nsw[\"QUOTE_DATE\"].map(datetime.toordinal)\n",
    "\n",
    "x = df_nsw.to_numpy()[:, 2].reshape(-1, 1)  # date\n",
    "y = df_nsw.to_numpy()[:, 1]  # conversion rate\n",
    "\n",
    "model = LinearRegression().fit(x, y)\n",
    "\n",
    "print(f\"R^2 = {model.score(x, y)}\")\n",
    "print(f\"Equation: y = {model.intercept_} + ({model.coef_[0]})x\")\n",
    "df_nsw.plot(x=\"QUOTE_DATE\", y=\"Net Closing Rate\");"
   ]
  }
 ],
 "metadata": {
  "kernelspec": {
   "display_name": "Python 3 (ipykernel)",
   "language": "python",
   "name": "python3"
  },
  "language_info": {
   "codemirror_mode": {
    "name": "ipython",
    "version": 3
   },
   "file_extension": ".py",
   "mimetype": "text/x-python",
   "name": "python",
   "nbconvert_exporter": "python",
   "pygments_lexer": "ipython3",
   "version": "3.9.7"
  }
 },
 "nbformat": 4,
 "nbformat_minor": 4
}
