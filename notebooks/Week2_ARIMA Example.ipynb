{
 "cells": [
  {
   "cell_type": "markdown",
   "id": "2a5d5b75",
   "metadata": {},
   "source": [
    "Process:\n",
    "- Dataset is first loaded into the `ADModel` class\n",
    "- Perform data preparation to:\n",
    "    - Collapse the rows down to a single dimension\n",
    "    - Remove anomalous categories - e.g. \"Unknown\" categories, \"NT\" when using the State dimension, etc.\n",
    "    - Create a conversion rate column based on aggregated data\n",
    "- Find anomalies based on ARIMA model:\n",
    "    - Split data into training vs. test (historical vs. data from the past month)\n",
    "    - Fit ARIMA parameters p, d, q to the training data\n",
    "    - Determine the best ARIMA model based on a grid search of the parameters p, d, q\n",
    "        - Pick best ARIMA model based on AICc score\n",
    "    - Use ARIMA model to forecast up to the end of the test dataset\n",
    "    - Compare forecast confidence intervals to test dataset values; flag points as anomalies if they lie outside the confidence interval"
   ]
  },
  {
   "cell_type": "markdown",
   "id": "2cd0bee2",
   "metadata": {},
   "source": [
    "Import modules:"
   ]
  },
  {
   "cell_type": "code",
   "execution_count": null,
   "id": "a856861d",
   "metadata": {
    "scrolled": false
   },
   "outputs": [],
   "source": [
    "from dotenv import load_dotenv\n",
    "import os\n",
    "import sys\n",
    "\n",
    "module_path = os.path.abspath(os.path.join('..'))\n",
    "if module_path not in sys.path:\n",
    "    sys.path.append(module_path)\n",
    "\n",
    "from amodely.amodely import *\n",
    "\n",
    "load_dotenv()\n",
    "DATASET_PATH = os.environ.get(\"DATASET_PATH\")"
   ]
  },
  {
   "cell_type": "markdown",
   "id": "0e7e6b8d",
   "metadata": {},
   "source": [
    "Load dataset into the `ADModel` class:"
   ]
  },
  {
   "cell_type": "code",
   "execution_count": null,
   "id": "4299bd07",
   "metadata": {
    "scrolled": false
   },
   "outputs": [],
   "source": [
    "model = Amodely(pd.read_excel(DATASET_PATH + \"Conversion Data Extended Period.xlsx\"), measure=\"conversion_rate\")\n",
    "anomalies = model.detect_anomalies(method=\"arima\", dimension=\"STATE_CODE\", steps=10)\n",
    "anomalies"
   ]
  },
  {
   "cell_type": "code",
   "execution_count": null,
   "id": "d0d60f6a",
   "metadata": {
    "scrolled": false
   },
   "outputs": [],
   "source": [
    "import matplotlib.pyplot as plt\n",
    "import matplotlib.dates as mdates\n",
    "from datetime import datetime\n",
    "from datetime import timedelta\n",
    "categories = sorted(set(model.df[\"STATE_CODE\"]))\n",
    "\n",
    "for category in categories:\n",
    "    df = pl.category_pipeline(\"STATE_CODE\", [category]).fit_transform(model.df)\n",
    "    \n",
    "    anomaly_df = anomalies[anomalies[\"STATE_CODE\"] == category]\n",
    "    \n",
    "    plt.rcParams[\"figure.figsize\"] = (12,6)\n",
    "    plt.scatter(anomaly_df[\"QUOTE_DATE\"], anomaly_df[model.measure.upper()], c=\"red\")\n",
    "    plt.axvspan(*mdates.datestr2num([str(datetime(2021, 10, 31) - timedelta(10*7)), \"10/31/2021\"]), color=\"orange\", alpha=0.5)\n",
    "    plt.plot(df[\"QUOTE_DATE\"], df[model.measure.upper()])\n",
    "    plt.ylim(0.05, 0.3)\n",
    "    plt.show()"
   ]
  },
  {
   "cell_type": "code",
   "execution_count": null,
   "id": "e8ed330d",
   "metadata": {},
   "outputs": [],
   "source": []
  }
 ],
 "metadata": {
  "kernelspec": {
   "display_name": "Python 3 (ipykernel)",
   "language": "python",
   "name": "python3"
  },
  "language_info": {
   "codemirror_mode": {
    "name": "ipython",
    "version": 3
   },
   "file_extension": ".py",
   "mimetype": "text/x-python",
   "name": "python",
   "nbconvert_exporter": "python",
   "pygments_lexer": "ipython3",
   "version": "3.9.7"
  }
 },
 "nbformat": 4,
 "nbformat_minor": 5
}
