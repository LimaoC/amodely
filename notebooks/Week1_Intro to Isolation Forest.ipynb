{
 "cells": [
  {
   "cell_type": "markdown",
   "id": "6320b24a-1fca-41d7-8b13-30ee2721ad7d",
   "metadata": {},
   "source": [
    "# Isolation Forest\n",
    "\n",
    "#### Experimenting with the [Isolation Forest](https://en.wikipedia.org/wiki/Isolation_forest) algorithm for anomaly detection\n",
    "\n",
    "Links:\n",
    "- [Isolation Forest Documentation](https://scikit-learn.org/stable/modules/generated/sklearn.ensemble.IsolationForest.html)\n",
    "- [Anomaly Detection using Isolation Forest - A Complete Guide](https://www.analyticsvidhya.com/blog/2021/07/anomaly-detection-using-isolation-forest-a-complete-guide/)\n",
    "- [Anomaly Detection Analysis - Isolation Forest](https://deepnote.com/@christopher-hui/Anomaly-Detection-Analysis-Isolation-Forest-wBLaaICBTi6byIvFmhwtbA)\n",
    "- [Extended Isolation Forest](https://github.com/sahandha/eif)\n",
    "- [Feature Importance in Isolation Forest](https://stats.stackexchange.com/questions/386558/feature-importance-in-isolation-forest)"
   ]
  },
  {
   "cell_type": "markdown",
   "id": "e0399057",
   "metadata": {},
   "source": [
    "Setting up the dataset:\n",
    "- Read in CSV and reformat the columns"
   ]
  },
  {
   "cell_type": "code",
   "execution_count": null,
   "id": "5b150934-613d-4ff3-ba83-688595516d75",
   "metadata": {
    "scrolled": true
   },
   "outputs": [],
   "source": [
    "from dotenv import load_dotenv\n",
    "import os\n",
    "\n",
    "import pandas as pd\n",
    "import matplotlib.pyplot as plt\n",
    "import ipywidgets as widgets\n",
    "from ipywidgets import interact\n",
    "from sklearn.ensemble import IsolationForest\n",
    "\n",
    "load_dotenv()\n",
    "DATASET_PATH = os.environ.get(\"DATASET_PATH\")\n",
    "\n",
    "# Read in CSV and reformat columns\n",
    "df = pd.read_csv(DATASET_PATH + \"Day 1 Conversion Rate Motor.csv\")\n",
    "df.rename(columns={\"Grouping\": \"State\", \"Selected Measure1\": \"Day 1 Conversion Rate\"}, inplace=True)\n",
    "df[\"Month\"] = pd.to_datetime(df[\"Month\"], format=\"%d/%m/%y\")\n",
    "\n",
    "states = sorted(set(df[\"State\"]))\n",
    "df.head()"
   ]
  },
  {
   "cell_type": "markdown",
   "id": "9ee2098a",
   "metadata": {},
   "source": [
    "Investigating NSW data:"
   ]
  },
  {
   "cell_type": "code",
   "execution_count": null,
   "id": "5a2d4972-b66b-41e2-b9a5-6d6c26196b99",
   "metadata": {
    "scrolled": false
   },
   "outputs": [],
   "source": [
    "# create new dataframe to filter for NSW\n",
    "df_nsw = df.loc[df.State == states[0]]\n",
    "df_nsw.reset_index()\n",
    "df_nsw"
   ]
  },
  {
   "cell_type": "markdown",
   "id": "7190772a",
   "metadata": {},
   "source": [
    "Run the Isolation Forest algorithm:"
   ]
  },
  {
   "cell_type": "code",
   "execution_count": null,
   "id": "9e65cb40-b6ba-46e0-ae2b-badd467b4d8c",
   "metadata": {},
   "outputs": [],
   "source": [
    "# create iso forest model\n",
    "model = IsolationForest(\n",
    "    n_estimators=100,\n",
    "    max_samples=\"auto\",\n",
    "    contamination=float(0.2),\n",
    ")\n",
    "\n",
    "# fit conversion rate values to model\n",
    "model.fit(df_nsw[[\"Day 1 Conversion Rate\"]].values)\n",
    "\n",
    "# create new rows in the dataframe to store anomaly scores;\n",
    "# -1: anomaly\n",
    "# 1: not an anomaly\n",
    "df_nsw.insert(len(df_nsw.columns), \"scores\", model.decision_function(df_nsw[[\"Day 1 Conversion Rate\"]].values))\n",
    "df_nsw.insert(len(df_nsw.columns), \"anomaly_score\", model.predict(df_nsw[[\"Day 1 Conversion Rate\"]].values))\n",
    "\n",
    "# filter for anomalies only\n",
    "df_nsw[df_nsw[\"anomaly_score\"]==-1].head()"
   ]
  }
 ],
 "metadata": {
  "kernelspec": {
   "display_name": "Python 3 (ipykernel)",
   "language": "python",
   "name": "python3"
  },
  "language_info": {
   "codemirror_mode": {
    "name": "ipython",
    "version": 3
   },
   "file_extension": ".py",
   "mimetype": "text/x-python",
   "name": "python",
   "nbconvert_exporter": "python",
   "pygments_lexer": "ipython3",
   "version": "3.9.7"
  }
 },
 "nbformat": 4,
 "nbformat_minor": 5
}
