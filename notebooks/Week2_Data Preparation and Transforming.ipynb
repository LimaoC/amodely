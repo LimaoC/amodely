{
 "cells": [
  {
   "cell_type": "markdown",
   "id": "55780f60",
   "metadata": {},
   "source": [
    "# Data Preparation and Transforming\n",
    "\n",
    "#### Experimenting with data preparation for dealing with multi-dimensional data\n",
    "\n",
    "Links:\n",
    "- [Essential Commands for Data Preparation with `Pandas`](https://towardsdatascience.com/essential-commands-for-data-preparation-with-pandas-ed01579cf214)"
   ]
  },
  {
   "cell_type": "markdown",
   "id": "73ee78d6",
   "metadata": {},
   "source": [
    "Experimenting with some data preparation to squash daily data down to weekly data. Weekly data may work better for the (S)ARIMA(X) model (**notebook**: [SARIMAX Model](SARIMAX%20Model.ipynb)) since it'll be less volatile/granular."
   ]
  },
  {
   "cell_type": "code",
   "execution_count": null,
   "id": "2168ff63",
   "metadata": {},
   "outputs": [],
   "source": [
    "from dotenv import load_dotenv\n",
    "import os\n",
    "\n",
    "import pandas as pd\n",
    "import matplotlib.pyplot as plt\n",
    "\n",
    "load_dotenv()\n",
    "DATASET_PATH = os.environ.get(\"DATASET_PATH\")\n",
    "\n",
    "df_main = pd.read_excel(DATASET_PATH + \"Conversion by Day (single dimension).xlsx\")\n",
    "df = df_main.loc[df_main.iloc[:, 0] == \"WA\"]  # pick WA as an example\n",
    "# resample the daily data as weekly data\n",
    "weekly_data = df.resample(\n",
    "        \"W\",\n",
    "        label=\"right\",\n",
    "        closed=\"right\",\n",
    "        on=\"QUOTE_DATE\"\n",
    "    ).sum().reset_index().sort_values(by=\"QUOTE_DATE\")\n",
    "display(weekly_data)\n",
    "# create a new column to store conversion rate; display data\n",
    "weekly_data[\"Net Closing Rate\"] = weekly_data[\"Day 1 Sales Volume\"] / weekly_data[\"Number of New Business Quotes\"]\n",
    "# display data and plot it\n",
    "weekly_data.head()\n",
    "plt.plot(weekly_data[\"Net Closing Rate\"]);"
   ]
  },
  {
   "cell_type": "markdown",
   "id": "9e548908",
   "metadata": {},
   "source": [
    "Experimenting with multi-dimensional data:"
   ]
  },
  {
   "cell_type": "code",
   "execution_count": null,
   "id": "5c8ac896",
   "metadata": {},
   "outputs": [],
   "source": [
    "df_main = pd.read_excel(DATASET_PATH + \"Conversion by Day (multi dimension).xlsx\")\n",
    "df_main.head()"
   ]
  },
  {
   "cell_type": "markdown",
   "id": "a9e3ba7f",
   "metadata": {},
   "source": [
    "Merge down to the STATE_CODE dimension:"
   ]
  },
  {
   "cell_type": "code",
   "execution_count": null,
   "id": "11e438fe",
   "metadata": {},
   "outputs": [],
   "source": [
    "# filter all other rows out\n",
    "df = df_main[[\"QUOTE_DATE\", \"STATE_CODE\", \"QUOTE_COUNT\", \"SALES_COUNT\"]]\n",
    "df = df_main.groupby([\"QUOTE_DATE\", \"STATE_CODE\"]).aggregate({\n",
    "    \"QUOTE_COUNT\": \"sum\",\n",
    "    \"SALES_COUNT\": \"sum\",\n",
    "}).sort_values([\"STATE_CODE\", \"QUOTE_DATE\"]).reset_index()\n",
    "df.insert(2, \"CONVERSION_RATE\", df[\"SALES_COUNT\"] / df[\"QUOTE_COUNT\"])\n",
    "df.head()"
   ]
  },
  {
   "cell_type": "markdown",
   "id": "e9ad47bc",
   "metadata": {},
   "source": [
    "Merge down to the VEHICLE_KMS dimension:"
   ]
  },
  {
   "cell_type": "code",
   "execution_count": null,
   "id": "868a69aa",
   "metadata": {},
   "outputs": [],
   "source": [
    "df = df_main[[\"QUOTE_DATE\", \"VEHICLE_KMS\", \"QUOTE_COUNT\", \"SALES_COUNT\"]]\n",
    "df = df_main.groupby([\"QUOTE_DATE\", \"VEHICLE_KMS\"]).aggregate({\n",
    "    \"QUOTE_COUNT\": \"sum\",\n",
    "    \"SALES_COUNT\": \"sum\",\n",
    "}).sort_values([\"VEHICLE_KMS\", \"QUOTE_DATE\"]).reset_index()\n",
    "df.insert(2, \"CONVERSION_RATE\", df[\"SALES_COUNT\"] / df[\"QUOTE_COUNT\"])\n",
    "df.head()"
   ]
  },
  {
   "cell_type": "code",
   "execution_count": null,
   "id": "04b1117d",
   "metadata": {},
   "outputs": [],
   "source": []
  }
 ],
 "metadata": {
  "kernelspec": {
   "display_name": "Python 3 (ipykernel)",
   "language": "python",
   "name": "python3"
  },
  "language_info": {
   "codemirror_mode": {
    "name": "ipython",
    "version": 3
   },
   "file_extension": ".py",
   "mimetype": "text/x-python",
   "name": "python",
   "nbconvert_exporter": "python",
   "pygments_lexer": "ipython3",
   "version": "3.9.7"
  }
 },
 "nbformat": 4,
 "nbformat_minor": 5
}
