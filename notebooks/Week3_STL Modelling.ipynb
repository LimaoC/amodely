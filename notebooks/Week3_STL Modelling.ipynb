{
 "cells": [
  {
   "cell_type": "markdown",
   "id": "08fb961a",
   "metadata": {},
   "source": [
    "# STL Modeling\n",
    "\n",
    "#### Seasonal and Trend decomposition using Loess (STL)\n",
    "\n",
    "Links:\n",
    "- [STL Decomposition Documentation](https://www.statsmodels.org/dev/examples/notebooks/generated/stl_decomposition.html)\n",
    "- [STL Decomposition Example](https://www.statsmodels.org/dev/examples/notebooks/generated/stl_decomposition.html)\n",
    "- [Anomaly Detection using STL](https://medium.com/wwblog/anomaly-detection-using-stl-76099c9fd5a7)"
   ]
  },
  {
   "cell_type": "markdown",
   "id": "3ff53b9e",
   "metadata": {},
   "source": [
    "Import modules:"
   ]
  },
  {
   "cell_type": "code",
   "execution_count": null,
   "id": "10fe1b92",
   "metadata": {},
   "outputs": [],
   "source": [
    "from dotenv import load_dotenv\n",
    "import os\n",
    "import sys\n",
    "\n",
    "module_path = os.path.abspath(os.path.join('..'))\n",
    "if module_path not in sys.path:\n",
    "    sys.path.append(module_path)\n",
    "\n",
    "from amodely.amodely import *\n",
    "\n",
    "from statsmodels.tsa.seasonal import STL\n",
    "from statsmodels.api import qqplot\n",
    "import numpy as np\n",
    "import pandas as pd\n",
    "import matplotlib.pyplot as plt\n",
    "from datetime import datetime\n",
    "from scipy.stats import norm\n",
    "\n",
    "load_dotenv()\n",
    "DATASET_PATH = os.environ.get(\"DATASET_PATH\")"
   ]
  },
  {
   "cell_type": "markdown",
   "id": "0e7e6b8d",
   "metadata": {},
   "source": [
    "Load dataset into the `ADModel` class:"
   ]
  },
  {
   "cell_type": "code",
   "execution_count": null,
   "id": "d8580562",
   "metadata": {},
   "outputs": [],
   "source": [
    "model = Amodely(pd.read_excel(DATASET_PATH + \"Conversion Data Extended Period.xlsx\"), measure=\"conversion_rate\")"
   ]
  },
  {
   "cell_type": "code",
   "execution_count": null,
   "id": "629e3808",
   "metadata": {
    "scrolled": true
   },
   "outputs": [],
   "source": [
    "model.reset_working()\n",
    "results = model.detect_anomalies(method=\"stl\", dimension=\"STATE_CODE\")\n",
    "results"
   ]
  },
  {
   "cell_type": "code",
   "execution_count": null,
   "id": "0488f487",
   "metadata": {
    "scrolled": true
   },
   "outputs": [],
   "source": [
    "dimension = \"STATE_CODE\"\n",
    "response = model.measure.upper()\n",
    "categories = sorted(set(model.df[dimension]))\n",
    "\n",
    "for category in categories:\n",
    "    df = pl.category_pipeline(dimension, [category]).fit_transform(model.df)\n",
    "    anomalies = results[results[dimension] == category]\n",
    "\n",
    "    plt.plot(df[DATE], df[response])\n",
    "    plt.scatter(anomalies[DATE], anomalies[response], c=\"red\")\n",
    "    plt.show()"
   ]
  },
  {
   "cell_type": "markdown",
   "id": "5804537a",
   "metadata": {},
   "source": [
    "For each category, decompose the time series down to its residuals. Then fit a normal distribution to the model and identify outliers based on a 95% confidence interval:"
   ]
  },
  {
   "cell_type": "code",
   "execution_count": null,
   "id": "a446bd06",
   "metadata": {
    "scrolled": false
   },
   "outputs": [],
   "source": [
    "def calc_stl(ts):\n",
    "    df = ts.copy()\n",
    "    df.set_index(DATE, inplace=True)\n",
    "    stl = STL(df[\"CONVERSION_RATE\"], period=12).fit()\n",
    "    \n",
    "    return stl\n",
    "\n",
    "\n",
    "anomalies = []\n",
    "\n",
    "for category in adm.categories:\n",
    "    df = adm.filter_category(category, inplace=False)\n",
    "    stl = calc_stl(df)\n",
    "    plt.rcParams[\"figure.figsize\"] = (9,6)\n",
    "    stl.plot()\n",
    "    plt.show()\n",
    "\n",
    "    data = stl.resid\n",
    "    mean, std = np.mean(data), np.std(data)\n",
    "    sig = 0.05\n",
    "    min_bound, max_bound = norm.ppf(sig/2, loc=mean, scale=std), norm.ppf(1-sig/2, loc=mean, scale=std)\n",
    "    plt.plot(data)\n",
    "    plt.axhline(y=min_bound, color='r')\n",
    "    plt.axhline(y=max_bound, color='r')\n",
    "    plt.show()\n",
    "    \n",
    "    indices = []\n",
    "    for i, value in enumerate(data):\n",
    "        if not (min_bound < value < max_bound):\n",
    "            indices.append(i)\n",
    "            \n",
    "    anomalies.append(df.iloc[indices, :].copy())\n",
    "    \n",
    "anomaly_df = pd.concat(anomalies)\n",
    "display(anomaly_df[anomaly_df[\"QUOTE_DATE\"] > datetime(2021, 10, 1)].sort_values(\"QUOTE_DATE\"))"
   ]
  },
  {
   "cell_type": "markdown",
   "id": "ff7da96f",
   "metadata": {},
   "source": [
    "Plot outliers:"
   ]
  },
  {
   "cell_type": "code",
   "execution_count": null,
   "id": "9a1bbddd",
   "metadata": {
    "scrolled": false
   },
   "outputs": [],
   "source": [
    "for category in adm.categories:\n",
    "    df_plot = adm.filter_category(category)\n",
    "    \n",
    "    anomaly_df_new = anomaly_df[anomaly_df[\"QUOTE_DATE\"] > datetime(2021, 9, 1)].sort_values(\"QUOTE_DATE\")\n",
    "    anomaly_df_new = anomaly_df_new[anomaly_df_new[\"STATE_CODE\"] == category]\n",
    "\n",
    "    plt.scatter(anomaly_df_new[\"QUOTE_DATE\"], anomaly_df_new[\"CONVERSION_RATE\"], c=\"red\")    \n",
    "    plt.plot(df_plot[\"QUOTE_DATE\"], df_plot[\"CONVERSION_RATE\"])\n",
    "    plt.show()"
   ]
  },
  {
   "cell_type": "code",
   "execution_count": null,
   "id": "aa70b400",
   "metadata": {},
   "outputs": [],
   "source": []
  }
 ],
 "metadata": {
  "kernelspec": {
   "display_name": "Python 3 (ipykernel)",
   "language": "python",
   "name": "python3"
  },
  "language_info": {
   "codemirror_mode": {
    "name": "ipython",
    "version": 3
   },
   "file_extension": ".py",
   "mimetype": "text/x-python",
   "name": "python",
   "nbconvert_exporter": "python",
   "pygments_lexer": "ipython3",
   "version": "3.9.7"
  }
 },
 "nbformat": 4,
 "nbformat_minor": 5
}
